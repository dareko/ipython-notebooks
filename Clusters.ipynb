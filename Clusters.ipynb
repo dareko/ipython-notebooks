{
 "metadata": {
  "name": "",
  "signature": "sha256:46d1a41c241e0f687cf2ed3d6a930fde9a2770893445e48750037b4ec8c2950c"
 },
 "nbformat": 3,
 "nbformat_minor": 0,
 "worksheets": [
  {
   "cells": [
    {
     "cell_type": "markdown",
     "metadata": {},
     "source": [
      "## IPython Parallel Computing Environment\n",
      "\n",
      "IPython's parallel computing environment builds on the concept of ipython engines and controllers, that one can connect to and submit tasks to. To get started using this framework for parallel computing, first start up an IPython cluster of engines from the \"Clusters\" tab on the IPython notebook dashboard page.\n",
      "\n",
      "Results can be stored in a database - set the following in your ipcontroller_config.py:\n",
      "\n",
      "    c.HubFactory.db_class = \"MongoDB\"\n",
      "    c.HubFactory.db_class = \"SQLiteDB\"\n",
      "\n",
      "## References\n",
      "\n",
      "- http://nbviewer.ipython.org/gist/jtriley/3866987"
     ]
    },
    {
     "cell_type": "code",
     "collapsed": false,
     "input": [
      "# setup\n",
      "\n",
      "%matplotlib inline\n",
      "import numpy as np\n",
      "import matplotlib.pyplot as plt\n",
      "from IPython.parallel import Client\n",
      "\n",
      "# function to visualize task execution time\n",
      "def visualize_tasks(data):\n",
      "    dt = np.array(data)\n",
      "    fig, ax = plt.subplots(figsize=(18, dt.shape[1]))\n",
      "\n",
      "    yticks = []\n",
      "    tmin = min(dt[:,1])\n",
      "\n",
      "    for n, pid in enumerate(np.unique(dt[:,0])):\n",
      "        yticks.append(n)\n",
      "        for m in np.where(dt[:,0] == pid)[0]:\n",
      "            if dt[m,3]:\n",
      "                color = 'red'\n",
      "            else:\n",
      "                color = 'green'\n",
      "            ax.add_patch(plt.Rectangle((dt[m,1] - tmin, n-0.25),\n",
      "                         dt[m,2] - dt[m,1], 0.5, color=color, alpha=0.5))\n",
      "\n",
      "    ax.set_ylim(-.5, n+.5)\n",
      "    ax.set_xlim(0, max(dt[:,2]) - tmin + 0.)\n",
      "    ax.set_yticks(yticks)\n",
      "    ax.set_xlabel(\"seconds\")"
     ],
     "language": "python",
     "metadata": {},
     "outputs": [],
     "prompt_number": 1
    },
    {
     "cell_type": "code",
     "collapsed": false,
     "input": [
      "cli = Client()\n",
      "lbv = cli.load_balanced_view()\n",
      "\n",
      "@lbv.parallel(block=True)\n",
      "def test(delay):\n",
      "    \"\"\"A dummy test that takes 'delay' seconds betwen subsequent tests and 1 second to complete.\"\"\"\n",
      "    import os, time\n",
      "\n",
      "    pid = os.getpid()\n",
      "    time.sleep(delay)\n",
      "    t0 = time.time()\n",
      "\n",
      "    time.sleep(1)\n",
      "    err = False\n",
      "    \n",
      "    return [pid, t0, time.time(), err]\n",
      "\n",
      "cli.ids"
     ],
     "language": "python",
     "metadata": {},
     "outputs": [
      {
       "metadata": {},
       "output_type": "pyout",
       "prompt_number": 2,
       "text": [
        "[0, 1, 2, 3, 4, 5, 6]"
       ]
      }
     ],
     "prompt_number": 2
    },
    {
     "cell_type": "code",
     "collapsed": false,
     "input": [
      "data = test.map([1, 2, 3])\n",
      "print(data)\n",
      "visualize_tasks(data)"
     ],
     "language": "python",
     "metadata": {},
     "outputs": [
      {
       "output_type": "stream",
       "stream": "stdout",
       "text": [
        "[[2771, 1398542971.15241, 1398542972.153396, False], [2776, 1398542972.159731, 1398542973.160774, False], [2777, 1398542973.165549, 1398542974.166262, False]]\n"
       ]
      },
      {
       "metadata": {},
       "output_type": "display_data",
       "png": "[encoded data removed]",
       "text": [
        "<matplotlib.figure.Figure at 0x323a950>"
       ]
      }
     ],
     "prompt_number": 3
    },
    {
     "cell_type": "code",
     "collapsed": false,
     "input": [
      "delay_times = np.random.rand(64) * 0.3\n",
      "visualize_tasks(test.map(delay_times))"
     ],
     "language": "python",
     "metadata": {},
     "outputs": [
      {
       "metadata": {},
       "output_type": "display_data",
       "png": "[encoded data removed]",
       "text": [
        "<matplotlib.figure.Figure at 0x331b990>"
       ]
      }
     ],
     "prompt_number": 4
    },
    {
     "cell_type": "code",
     "collapsed": false,
     "input": [
      "%%px --targets ::2 --noblock \n",
      "print \"I am even\""
     ],
     "language": "python",
     "metadata": {},
     "outputs": [
      {
       "metadata": {},
       "output_type": "pyout",
       "prompt_number": 5,
       "text": [
        "<AsyncResult: finished>"
       ]
      }
     ],
     "prompt_number": 5
    },
    {
     "cell_type": "code",
     "collapsed": false,
     "input": [
      "%pxresult"
     ],
     "language": "python",
     "metadata": {},
     "outputs": [
      {
       "output_type": "stream",
       "stream": "stdout",
       "text": [
        "[stdout:0] I am even\n",
        "[stdout:2] I am even\n",
        "[stdout:4] I am even\n",
        "[stdout:6] I am even\n"
       ]
      }
     ],
     "prompt_number": 6
    }
   ],
   "metadata": {}
  }
 ]
}