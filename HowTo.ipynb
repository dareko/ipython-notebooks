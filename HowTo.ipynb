{
 "metadata": {
  "name": "",
  "signature": "sha256:2eea51e05ebf5e2a8cb21a759aaa87ca33821d89d5c92fd83a8a205204ed0cc1"
 },
 "nbformat": 3,
 "nbformat_minor": 0,
 "worksheets": [
  {
   "cells": [
    {
     "cell_type": "code",
     "collapsed": false,
     "input": [
      "# setup\n",
      "git_url = \"https://github.com/dareko/ipython-notebooks.git\"\n",
      "%cd notebooks"
     ],
     "language": "python",
     "metadata": {},
     "outputs": []
    },
    {
     "cell_type": "code",
     "collapsed": false,
     "input": [
      "%%bash\n",
      "git pull\n",
      "git status\n",
      "git diff"
     ],
     "language": "python",
     "metadata": {},
     "outputs": []
    },
    {
     "cell_type": "code",
     "collapsed": false,
     "input": [
      "%%bash\n",
      "#clear all cells output and save\n",
      "#git add .\n",
      "git add Clusters.ipynb\n",
      "git status\n",
      "git commit -am \"added output\"\n",
      "git push"
     ],
     "language": "python",
     "metadata": {},
     "outputs": []
    },
    {
     "cell_type": "code",
     "collapsed": false,
     "input": [
      "# initial setup\n",
      "%%bash\n",
      "#git clone {git_url} notebooks\n",
      "#git config --global user.email \"...\"\n",
      "#git config --global user.name \"...\"\n",
      "#git config --global push.default simple\n",
      "#add \".ipynb_checkpoints/\" line to .git/info/exclude"
     ],
     "language": "python",
     "metadata": {},
     "outputs": []
    }
   ],
   "metadata": {}
  }
 ]
}