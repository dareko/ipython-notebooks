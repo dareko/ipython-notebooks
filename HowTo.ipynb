{
 "metadata": {
  "name": "",
  "signature": "sha256:2993996652b72096c45beac99fc59164fe34661889affdf0ec7affa3f3dc10d3"
 },
 "nbformat": 3,
 "nbformat_minor": 0,
 "worksheets": [
  {
   "cells": [
    {
     "cell_type": "code",
     "collapsed": false,
     "input": [
      "# setup\n",
      "git_url = \"https://github.com/dareko/ipython-notebooks.git\"\n",
      "%cd notebooks"
     ],
     "language": "python",
     "metadata": {},
     "outputs": []
    },
    {
     "cell_type": "code",
     "collapsed": false,
     "input": [
      "!git pull\n",
      "!git status\n",
      "!git diff"
     ],
     "language": "python",
     "metadata": {},
     "outputs": []
    },
    {
     "cell_type": "code",
     "collapsed": false,
     "input": [
      "!git add .\n",
      "!git status\n",
      "!git commit -am \"new parallel computing notebook\"\n",
      "!git push"
     ],
     "language": "python",
     "metadata": {},
     "outputs": []
    },
    {
     "cell_type": "code",
     "collapsed": false,
     "input": [
      "# initial setup\n",
      "#!git clone {git_url} notebooks\n",
      "#!git config --global user.email \"...\"\n",
      "#!git config --global user.name \"...\"\n",
      "#!git config --global push.default simple"
     ],
     "language": "python",
     "metadata": {},
     "outputs": []
    }
   ],
   "metadata": {}
  }
 ]
}