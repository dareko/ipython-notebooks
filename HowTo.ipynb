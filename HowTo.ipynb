{
 "metadata": {
  "name": "",
  "signature": "sha256:fddd888eac5a23ab266d741047349ce2ab908a6b46eeb9aff04eaab4ec2b4d37"
 },
 "nbformat": 3,
 "nbformat_minor": 0,
 "worksheets": [
  {
   "cells": [
    {
     "cell_type": "code",
     "collapsed": false,
     "input": [
      "# setup\n",
      "git_url = \"https://github.com/dareko/ipython-notebooks.git\"\n",
      "%cd notebooks"
     ],
     "language": "python",
     "metadata": {},
     "outputs": []
    },
    {
     "cell_type": "code",
     "collapsed": false,
     "input": [
      "!git pull\n",
      "!git status\n",
      "!git diff"
     ],
     "language": "python",
     "metadata": {},
     "outputs": []
    },
    {
     "cell_type": "code",
     "collapsed": false,
     "input": [
      "#!git add .\n",
      "!git add Clusters.ipynb\n",
      "!git status\n",
      "!git commit -am \"added output\"\n",
      "!git push"
     ],
     "language": "python",
     "metadata": {},
     "outputs": []
    },
    {
     "cell_type": "code",
     "collapsed": false,
     "input": [
      "# initial setup\n",
      "#!git clone {git_url} notebooks\n",
      "#!git config --global user.email \"...\"\n",
      "#!git config --global user.name \"...\"\n",
      "#!git config --global push.default simple"
     ],
     "language": "python",
     "metadata": {},
     "outputs": []
    }
   ],
   "metadata": {}
  }
 ]
}